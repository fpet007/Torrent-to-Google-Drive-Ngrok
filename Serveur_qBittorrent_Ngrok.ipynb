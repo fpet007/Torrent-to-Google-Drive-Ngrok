{
  "nbformat": 4,
  "nbformat_minor": 0,
  "metadata": {
    "colab": {
      "name": "Serveur qBittorrent Ngrok.ipynb",
      "provenance": [],
      "include_colab_link": true
    },
    "kernelspec": {
      "name": "python3",
      "display_name": "Python 3"
    }
  },
  "cells": [
    {
      "cell_type": "markdown",
      "metadata": {
        "id": "view-in-github",
        "colab_type": "text"
      },
      "source": [
        "<a href=\"https://colab.research.google.com/github/fpet007/Torrent-to-Google-Drive-Ngrok/blob/main/Serveur_qBittorrent_Ngrok.ipynb\" target=\"_parent\"><img src=\"https://colab.research.google.com/assets/colab-badge.svg\" alt=\"Open In Colab\"/></a>"
      ]
    },
    {
      "cell_type": "markdown",
      "metadata": {
        "id": "aQuWDmfm9YOi"
      },
      "source": [
        "# Qbitorrent avec Google Drive avec Ngrok"
      ]
    },
    {
      "cell_type": "markdown",
      "metadata": {
        "id": "Uf90U73y9YOj"
      },
      "source": [
        "### Monter Google Drive\n"
      ]
    },
    {
      "cell_type": "code",
      "metadata": {
        "id": "oWM9l2fvtuvO"
      },
      "source": [
        "from google.colab import drive\n",
        "drive.mount('/content/drive/')"
      ],
      "execution_count": null,
      "outputs": []
    },
    {
      "cell_type": "markdown",
      "metadata": {
        "id": "R_1XuuIf9YOn"
      },
      "source": [
        "### Monter le serveur qBittorrent\n"
      ]
    },
    {
      "cell_type": "code",
      "metadata": {
        "id": "0et2A6N3udA0"
      },
      "source": [
        "!add-apt-repository ppa:qbittorrent-team/qbittorrent-stable -y\n",
        "!apt install qbittorrent-nox"
      ],
      "execution_count": null,
      "outputs": []
    },
    {
      "cell_type": "markdown",
      "metadata": {
        "id": "m-a1CUP39YOu"
      },
      "source": [
        "### Démarrer le serveur et créer un tunnel sécurisé avec Ngrok\n",
        "TOKEN déjà présent: 1 connection par utilisateur.\n",
        "\n",
        "Récupérer et remplacer avec votre Token personnel sur le site https://dashboard.ngrok.com/login\n"
      ]
    },
    {
      "cell_type": "code",
      "metadata": {
        "id": "DBNoYYoSuDBT"
      },
      "source": [
        "TOKEN = \"1ow4uFTm7lTzW3ZH0xA2yK2GYnj_2JAs7KBN7gwB6pjPSR67g\"\n",
        "\n",
        "def install_ngrok():\n",
        "    import os\n",
        "    from zipfile import ZipFile\n",
        "    from urllib.request import urlretrieve\n",
        "    \n",
        "    url = 'https://bin.equinox.io/c/4VmDzA7iaHb/ngrok-stable-linux-amd64.zip'\n",
        "    urlretrieve(url, 'ngrok-amd64.zip')\n",
        "    \n",
        "    with ZipFile('ngrok-amd64.zip', 'r') as zip_ref:\n",
        "        zip_ref.extractall('/usr/local/bin/')\n",
        "    os.chmod('/usr/local/bin/ngrok', 0o755)\n",
        "    os.unlink('ngrok-amd64.zip')\n",
        "\n",
        "install_ngrok()\n",
        "if TOKEN != \"\":\n",
        "    !ngrok authtoken $TOKEN "
      ],
      "execution_count": null,
      "outputs": []
    },
    {
      "cell_type": "code",
      "metadata": {
        "id": "EsvyU95V2RnU"
      },
      "source": [
        "import threading\n",
        "import time\n",
        "import requests\n",
        "import json\n",
        "import subprocess\n",
        "\n",
        "def torrent(port):\n",
        "    command = subprocess.Popen(['qbittorrent-nox', f'--webui-port={port}'])\n",
        "\n",
        "def ngrok(port):\n",
        "    \n",
        "    ngrok_cmd = subprocess.Popen(['ngrok', 'http', str(port)])    \n",
        "    localhost_url = \"http://localhost:4040/api/tunnels\"\n",
        "\n",
        "    time.sleep(1)\n",
        "    tunnel_url = requests.get(localhost_url).text\n",
        "    json_data = json.loads(tunnel_url)\n",
        "\n",
        "    tunnel_url = json_data['tunnels'][0]['public_url']\n",
        "    tunnel_url = tunnel_url.replace(\"https\", \"http\")\n",
        "    print('Running at localhost: ' + str(port))\n",
        "    print(tunnel_url)\n",
        "\n",
        "if __name__ == '__main__':\n",
        "    \n",
        "    port = 9999\n",
        "\n",
        "    thread_torrent = threading.Thread(target = torrent, args=(int(port),))\n",
        "    thread_ngrok = threading.Thread(target = ngrok, args=(int(port),))\n",
        "\n",
        "    thread_torrent.start()\n",
        "    print('Torrent server started!')\n",
        "\n",
        "    time.sleep(5)\n",
        "    print('Establishing secure connection!')\n",
        "    \n",
        "    thread_ngrok.start()\n",
        "    print('Secure connection established...')\n",
        "    print('Username: admin')\n",
        "    print('password: adminadmin')\n",
        "    \n",
        "    thread_ngrok.join()\n",
        "    thread_torrent.join()"
      ],
      "execution_count": null,
      "outputs": []
    }
  ]
}