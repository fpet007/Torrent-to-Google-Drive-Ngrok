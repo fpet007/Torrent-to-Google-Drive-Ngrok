{
  "nbformat": 4,
  "nbformat_minor": 0,
  "metadata": {
    "colab": {
      "name": "Serveur qBittorrent Ngrok.ipynb",
      "provenance": [],
      "collapsed_sections": []
    },
    "kernelspec": {
      "name": "python3",
      "display_name": "Python 3"
    }
  },
  "cells": [
    {
      "cell_type": "markdown",
      "metadata": {
        "id": "aQuWDmfm9YOi"
      },
      "source": [
        "# Qbitorrent avec Google Drive avec Ngrok"
      ]
    },
    {
      "cell_type": "markdown",
      "metadata": {
        "id": "Uf90U73y9YOj"
      },
      "source": [
        "### Monter Google Drive\n"
      ]
    },
    {
      "cell_type": "code",
      "metadata": {
        "id": "oWM9l2fvtuvO"
      },
      "source": [
        "from google.colab import drive\n",
        "drive.mount('/content/drive/')"
      ],
      "execution_count": null,
      "outputs": []
    },
    {
      "cell_type": "markdown",
      "metadata": {
        "id": "R_1XuuIf9YOn"
      },
      "source": [
        "### Monter le serveur qBittorrent\n"
      ]
    },
    {
      "cell_type": "code",
      "metadata": {
        "id": "0et2A6N3udA0"
      },
      "source": [
        "!add-apt-repository ppa:qbittorrent-team/qbittorrent-stable -y\n",
        "!apt install qbittorrent-nox"
      ],
      "execution_count": null,
      "outputs": []
    },
    {
      "cell_type": "markdown",
      "metadata": {
        "id": "m-a1CUP39YOu"
      },
      "source": [
        "### Démarrer le serveur et créer un tunnel sécurisé avec Ngrok\n",
        "TOKEN déjà présent: 1 connection par utilisateur.\n",
        "\n",
        "Récupérer et remplacer avec votre Token personnel sur le site https://dashboard.ngrok.com/login\n"
      ]
    },
    {
      "cell_type": "code",
      "metadata": {
        "id": "DBNoYYoSuDBT"
      },
      "source": [
        "TOKEN = \"1ow4uFTm7lTzW3ZH0xA2yK2GYnj_2JAs7KBN7gwB6pjPSR67g\"\n",
        "\n",
        "def install_ngrok():\n",
        "    import os\n",
        "    from zipfile import ZipFile\n",
        "    from urllib.request import urlretrieve\n",
        "    \n",
        "    url = 'https://bin.equinox.io/c/4VmDzA7iaHb/ngrok-stable-linux-amd64.zip'\n",
        "    urlretrieve(url, 'ngrok-amd64.zip')\n",
        "    \n",
        "    with ZipFile('ngrok-amd64.zip', 'r') as zip_ref:\n",
        "        zip_ref.extractall('/usr/local/bin/')\n",
        "    os.chmod('/usr/local/bin/ngrok', 0o755)\n",
        "    os.unlink('ngrok-amd64.zip')\n",
        "\n",
        "install_ngrok()\n",
        "if TOKEN != \"\":\n",
        "    !ngrok authtoken $TOKEN "
      ],
      "execution_count": null,
      "outputs": []
    },
    {
      "cell_type": "code",
      "metadata": {
        "id": "EsvyU95V2RnU"
      },
      "source": [
        "import threading\r\n",
        "import time\r\n",
        "import requests\r\n",
        "import json\r\n",
        "import subprocess\r\n",
        "\r\n",
        "def torrent(port):\r\n",
        "    command = subprocess.Popen(['qbittorrent-nox', f'--webui-port={port}'])\r\n",
        "\r\n",
        "def ngrok(port):\r\n",
        "    \r\n",
        "    ngrok_cmd = subprocess.Popen(['ngrok', 'http', str(port)])    \r\n",
        "    localhost_url = \"http://localhost:4040/api/tunnels\"\r\n",
        "\r\n",
        "    time.sleep(1)\r\n",
        "    tunnel_url = requests.get(localhost_url).text\r\n",
        "    json_data = json.loads(tunnel_url)\r\n",
        "\r\n",
        "    tunnel_url = json_data['tunnels'][0]['public_url']\r\n",
        "    tunnel_url = tunnel_url.replace(\"https\", \"http\")\r\n",
        "    print('Running at localhost: ' + str(port))\r\n",
        "    print(tunnel_url)\r\n",
        "\r\n",
        "if __name__ == '__main__':\r\n",
        "    \r\n",
        "    port = 9999\r\n",
        "\r\n",
        "    thread_torrent = threading.Thread(target = torrent, args=(int(port),))\r\n",
        "    thread_ngrok = threading.Thread(target = ngrok, args=(int(port),))\r\n",
        "\r\n",
        "    thread_torrent.start()\r\n",
        "    print('Torrent server started!')\r\n",
        "\r\n",
        "    time.sleep(5)\r\n",
        "    print('Establishing secure connection!')\r\n",
        "    \r\n",
        "    thread_ngrok.start()\r\n",
        "    print('Secure connection established...')\r\n",
        "    print('Username: admin')\r\n",
        "    print('password: adminadmin')\r\n",
        "    \r\n",
        "    thread_ngrok.join()\r\n",
        "    thread_torrent.join()"
      ],
      "execution_count": null,
      "outputs": []
    },
    {
      "cell_type": "markdown",
      "metadata": {
        "id": "uYEq1BQMZF3e"
      },
      "source": [
        "### Initialiser la Session d'upload de fichier dans le chemin :\r\n",
        "### /content/drive/MyDrive (15 go Max)  ou  /content/drive/Shareddrives/votre_nom_team_drive (illimité)\r\n",
        "![upload.png](data:image/png;base64,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)\r\n"
      ]
    }
  ]
}